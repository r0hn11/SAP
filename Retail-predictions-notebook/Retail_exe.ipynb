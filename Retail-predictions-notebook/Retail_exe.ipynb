{
  "cells": [
    {
      "cell_type": "code",
      "source": [
        "pip install fedml-azure --force-reinstall"
      ],
      "outputs": [
        {
          "output_type": "stream",
          "name": "stdout",
          "text": "Collecting fedml-azure\n  Using cached fedml_azure-2.0.1-py3-none-any.whl (30 kB)\nCollecting hdbcli (from fedml-azure)\n  Using cached hdbcli-2.19.20-cp34-abi3-manylinux1_x86_64.whl (10.8 MB)\nCollecting ruamel.yaml (from fedml-azure)\n  Using cached ruamel.yaml-0.18.5-py3-none-any.whl (116 kB)\nCollecting ruamel.yaml.clib>=0.2.7 (from ruamel.yaml->fedml-azure)\n  Using cached ruamel.yaml.clib-0.2.8-cp310-cp310-manylinux_2_17_x86_64.manylinux2014_x86_64.manylinux_2_24_x86_64.whl (526 kB)\nInstalling collected packages: hdbcli, ruamel.yaml.clib, ruamel.yaml, fedml-azure\n  Attempting uninstall: hdbcli\n    Found existing installation: hdbcli 2.19.20\n    Uninstalling hdbcli-2.19.20:\n      Successfully uninstalled hdbcli-2.19.20\n  Attempting uninstall: ruamel.yaml.clib\n    Found existing installation: ruamel.yaml.clib 0.2.8\n    Uninstalling ruamel.yaml.clib-0.2.8:\n      Successfully uninstalled ruamel.yaml.clib-0.2.8\n  Attempting uninstall: ruamel.yaml\n    Found existing installation: ruamel.yaml 0.18.5\n    Uninstalling ruamel.yaml-0.18.5:\n      Successfully uninstalled ruamel.yaml-0.18.5\n  Attempting uninstall: fedml-azure\n    Found existing installation: fedml-azure 2.0.1\n    Uninstalling fedml-azure-2.0.1:\n      Successfully uninstalled fedml-azure-2.0.1\nSuccessfully installed fedml-azure-2.0.1 hdbcli-2.19.20 ruamel.yaml-0.18.5 ruamel.yaml.clib-0.2.8\nNote: you may need to restart the kernel to use updated packages.\n"
        }
      ],
      "execution_count": 1,
      "metadata": {
        "gather": {
          "logged": 1702639310886
        },
        "jupyter": {
          "outputs_hidden": true
        }
      }
    },
    {
      "cell_type": "code",
      "source": [
        "from fedml_azure import create_workspace\n",
        "from fedml_azure import create_compute\n",
        "from fedml_azure import create_environment\n",
        "from fedml_azure import DwcAzureTrain\n",
        "from fedml_azure import DbConnection\n",
        "from fedml_azure import register_model,deploy,predict"
      ],
      "outputs": [],
      "execution_count": 2,
      "metadata": {
        "jupyter": {
          "source_hidden": false,
          "outputs_hidden": false
        },
        "nteract": {
          "transient": {
            "deleting": false
          }
        },
        "gather": {
          "logged": 1702639320439
        }
      }
    },
    {
      "cell_type": "code",
      "source": [
        "#creation of workspace\n",
        "workspace=create_workspace(\n",
        "    workspace_args={\n",
        "    \"subscription_id\": \"2759153f-728a-4202-9d26-dfbbf4762c83\",\n",
        "    \"resource_group\": \"fr_retail_sourcegp\",\n",
        "    \"workspace_name\": \"fr_ml_workspace\"\n",
        "    }\n",
        ")"
      ],
      "outputs": [
        {
          "output_type": "stream",
          "name": "stdout",
          "text": "2023-12-15 11:22:01,594: fedml_azure.logger INFO: Getting existing Workspace\n"
        }
      ],
      "execution_count": 3,
      "metadata": {
        "jupyter": {
          "source_hidden": false,
          "outputs_hidden": true
        },
        "nteract": {
          "transient": {
            "deleting": false
          }
        },
        "gather": {
          "logged": 1702639324365
        }
      }
    },
    {
      "cell_type": "code",
      "source": [
        "#creation of compute target\n",
        "compute=create_compute(\n",
        "    workspace=workspace,\n",
        "    compute_type='AmlComputeInstance',\n",
        "    compute_args={\n",
        "        'vm_size':\"Standard_D3_v2\",\n",
        "        'compute_name':'def-compute'\n",
        "    }\n",
        ")"
      ],
      "outputs": [
        {
          "output_type": "stream",
          "name": "stdout",
          "text": "2023-12-15 11:22:07,257: fedml_azure.logger INFO: Creating Compute_target.\n2023-12-15 11:22:10,690: fedml_azure.logger INFO: Found existing instance, using it.\n"
        }
      ],
      "execution_count": 4,
      "metadata": {
        "jupyter": {
          "source_hidden": false,
          "outputs_hidden": true
        },
        "nteract": {
          "transient": {
            "deleting": false
          }
        },
        "gather": {
          "logged": 1702639330846
        }
      }
    },
    {
      "cell_type": "code",
      "source": [
        "environment=create_environment(\n",
        "    workspace=workspace,\n",
        "    environment_type='CondaSpecificationEnvironment',\n",
        "    environment_args={\n",
        "        'name':'conda-env-sp',\n",
        "        'file_path':'src/conda_dependency.yml'\n",
        "        }\n",
        "    )"
      ],
      "outputs": [
        {
          "output_type": "stream",
          "name": "stdout",
          "text": "2023-12-15 11:22:13,054: fedml_azure.logger INFO: Creating Environment.\n"
        }
      ],
      "execution_count": 5,
      "metadata": {
        "jupyter": {
          "source_hidden": false,
          "outputs_hidden": false
        },
        "nteract": {
          "transient": {
            "deleting": false
          }
        },
        "gather": {
          "logged": 1702639333358
        }
      }
    },
    {
      "cell_type": "markdown",
      "source": [
        "### Training -"
      ],
      "metadata": {
        "nteract": {
          "transient": {
            "deleting": false
          }
        }
      }
    },
    {
      "cell_type": "code",
      "source": [
        "train=DwcAzureTrain(\n",
        "    workspace=workspace,\n",
        "    environment=environment,\n",
        "    experiment_args={'name':'fr-exp'},\n",
        "    compute=compute\n",
        ")"
      ],
      "outputs": [
        {
          "output_type": "stream",
          "name": "stdout",
          "text": "2023-12-15 11:22:20,998: fedml_azure.logger INFO: Assigning Workspace.\n2023-12-15 11:22:21,000: fedml_azure.logger INFO: Creating Experiment\n2023-12-15 11:22:22,276: fedml_azure.logger INFO: Assigning compute.\n2023-12-15 11:22:22,277: fedml_azure.logger INFO: Assigning Environment.\n"
        }
      ],
      "execution_count": 6,
      "metadata": {
        "jupyter": {
          "source_hidden": false,
          "outputs_hidden": true
        },
        "nteract": {
          "transient": {
            "deleting": false
          }
        },
        "gather": {
          "logged": 1702639342493
        }
      }
    },
    {
      "cell_type": "code",
      "source": [
        "#generating the run config\n",
        "src=train.generate_run_config(\n",
        "    config_file_path='src/dspconfig.json',\n",
        "    config_args={\n",
        "        'source_directory':'Retail-Project',\n",
        "        'script':'training_script.py',\n",
        "        'arguments':[\n",
        "            '--model_file_name','retailmodel.pkl',\n",
        "            '--dist_table', 'FR_HL_DISTRIBUTOR_V',\n",
        "            '--dist_size', '1',\n",
        "            '--product_table', 'FR_HL_PRODUCT_V',\n",
        "            '--product_size', '1',\n",
        "            '--retailer_table', 'FR_HL_RETAIL_V',\n",
        "            '--retailer_size', '1',\n",
        "            '--retailer1_table', 'FR_HL_RETAILER1_V',\n",
        "            '--retailer1_size', '1',\n",
        "            '--retailer2_table', 'FR_HL_RETAILER2_V',\n",
        "            '--retailer2_size', '1',\n",
        "            '--retailer3_table', 'FR_HL_RETAILER3_V',\n",
        "            '--retailer3_size', '1',\n",
        "            ]\n",
        "    }\n",
        ")"
      ],
      "outputs": [
        {
          "output_type": "stream",
          "name": "stdout",
          "text": "2023-12-15 11:22:24,622: fedml_azure.logger INFO: Generating script run config.\n2023-12-15 11:22:24,624: fedml_azure.logger INFO: Copying config file for db connection to script_directory Retail-Project\n"
        }
      ],
      "execution_count": 7,
      "metadata": {
        "jupyter": {
          "source_hidden": false,
          "outputs_hidden": false
        },
        "nteract": {
          "transient": {
            "deleting": false
          }
        },
        "gather": {
          "logged": 1702639345032
        }
      }
    },
    {
      "cell_type": "code",
      "source": [
        "#submitting the training run\n",
        "run=train.submit_run(src)"
      ],
      "outputs": [
        {
          "output_type": "stream",
          "name": "stdout",
          "text": "2023-12-15 11:22:29,815: fedml_azure.logger INFO: Submitting training run.\nRunId: fr-exp_1702639351_c351a9d9\nWeb View: https://ml.azure.com/runs/fr-exp_1702639351_c351a9d9?wsid=/subscriptions/2759153f-728a-4202-9d26-dfbbf4762c83/resourcegroups/fr_retail_sourcegp/workspaces/fr_ml_workspace&tid=c077bf5f-5cac-4d48-a533-ef49a3a46d93\n\nStreaming user_logs/std_log.txt\n===============================\n\n\n\n********* Handling Data - Splitting into Train and Test *********n\n\nFR_HL_DISTRIBUTOR_V\n--- 0.2961282730102539 seconds ---\ngot dist_data\n--- 0.09261536598205566 seconds ---\ngot product_data\n--- 0.024788379669189453 seconds ---\ngot retailer_data\n--- 3.7936267852783203 seconds ---\ngot retailer3_data\n--- 3.8106279373168945 seconds ---\ngot retailer2_data\n--- 3.7077178955078125 seconds ---\ngot retailer1_data\n        productsku  retailer  ...   Material mtd_consumption_lag_1\n1022          1061     10001  ...      Denim              0.000000\n2860          1061     10001  ...      Denim             10.820318\n4956          1061     10001  ...      Denim             10.507776\n6677          1061     10001  ...      Denim             11.193711\n7980          1061     10001  ...      Denim             10.742940\n...            ...       ...  ...        ...                   ...\n93655        49993     10003  ...  Courduroy              8.605021\n100584       49993     10003  ...  Courduroy             10.928794\n107757       49993     10003  ...  Courduroy             10.894069\n114075       49993     10003  ...  Courduroy             10.730160\n121056       49993     10003  ...  Courduroy              9.527484\n\n[122400 rows x 19 columns]\nsuccessfully data split into train and test.\n\ntrain_data:\n       productsku retailer   Retailer  ... Demographic       Fit   Material\n1022         1061    10001  Retailer1  ...      Female  Straight      Denim\n2860         1061    10001  Retailer1  ...      Female  Straight      Denim\n4956         1061    10001  Retailer1  ...      Female  Straight      Denim\n6677         1061    10001  Retailer1  ...      Female  Straight      Denim\n7980         1061    10001  Retailer1  ...      Female  Straight      Denim\n...           ...      ...        ...  ...         ...       ...        ...\n73241       49993    10003  Retailer3  ...      Female     Loose  Courduroy\n80125       49993    10003  Retailer3  ...      Female     Loose  Courduroy\n87276       49993    10003  Retailer3  ...      Female     Loose  Courduroy\n93655       49993    10003  Retailer3  ...      Female     Loose  Courduroy\n100584      49993    10003  Retailer3  ...      Female     Loose  Courduroy\n\n[107100 rows x 20 columns]\nend\n\n\ntest_data:\n       productsku retailer   Retailer  ... Demographic       Fit   Material\n36658        1061    10001  Retailer1  ...      Female  Straight      Denim\n38708        1061    10001  Retailer1  ...      Female  Straight      Denim\n40786        1061    10001  Retailer1  ...      Female  Straight      Denim\n36442        1062    10001  Retailer1  ...        Male      Slim  Courduroy\n38505        1062    10001  Retailer1  ...        Male      Slim  Courduroy\n...           ...      ...        ...  ...         ...       ...        ...\n114077      49986    10003  Retailer3  ...      Female      Slim      Denim\n121059      49986    10003  Retailer3  ...      Female      Slim      Denim\n107757      49993    10003  Retailer3  ...      Female     Loose  Courduroy\n114075      49993    10003  Retailer3  ...      Female     Loose  Courduroy\n121056      49993    10003  Retailer3  ...      Female     Loose  Courduroy\n\n[15300 rows x 20 columns]\nend\n\n\nresults_data:\n       retailer productsku calendar_year calendar_month  mtd_consumption\n36658     10001       1061          2020             10        11.413337\n38708     10001       1061          2020             11         9.085231\n40786     10001       1061          2020             12        10.807260\n36442     10001       1062          2020             10        11.351594\n38505     10001       1062          2020             11        10.678376\n...         ...        ...           ...            ...              ...\n114077    10003      49986          2020             11        11.266808\n121059    10003      49986          2020             12         9.746307\n107757    10003      49993          2020             10        10.730160\n114075    10003      49993          2020             11         9.527484\n121056    10003      49993          2020             12        11.141035\n\n[15300 rows x 5 columns]\nend\n\ntest data printed\nfitting the model...\n[LightGBM] [Warning] Categorical features with more bins than the configured maximum bin number found.\n[LightGBM] [Warning] For categorical features, max_bin and max_bin_by_feature may be ignored with a large number of categories.\n[LightGBM] [Info] Auto-choosing row-wise multi-threading, the overhead of testing was 0.005764 seconds.\nYou can set `force_row_wise=true` to remove the overhead.\nAnd if memory is not enough, you can set `force_col_wise=true`.\n[LightGBM] [Info] Total Bins 3026\n[LightGBM] [Info] Number of data points in the train set: 107100, number of used features: 17\n[LightGBM] [Info] Start training from score 10.516308\ntraining_script.py:174: SettingWithCopyWarning: \nA value is trying to be set on a copy of a slice from a DataFrame.\nTry using .loc[row_indexer,col_indexer] = value instead\n\nSee the caveats in the documentation: https://pandas.pydata.org/pandas-docs/stable/user_guide/indexing.html#returning-a-view-versus-a-copy\n  results['Prediction'] = y_pred\ntraining_script.py:176: SettingWithCopyWarning: \nA value is trying to be set on a copy of a slice from a DataFrame.\nTry using .loc[row_indexer,col_indexer] = value instead\n\nSee the caveats in the documentation: https://pandas.pydata.org/pandas-docs/stable/user_guide/indexing.html#returning-a-view-versus-a-copy\n  results['mtd_consumption'] = np.expm1(results['mtd_consumption'])\nstoring the model....\nsaved model!\nCleaning up all outstanding Run operations, waiting 300.0 seconds\n0 items cleaning up...\nCleanup took 1.1920928955078125e-06 seconds\n\nExecution Summary\n=================\nRunId: fr-exp_1702639351_c351a9d9\nWeb View: https://ml.azure.com/runs/fr-exp_1702639351_c351a9d9?wsid=/subscriptions/2759153f-728a-4202-9d26-dfbbf4762c83/resourcegroups/fr_retail_sourcegp/workspaces/fr_ml_workspace&tid=c077bf5f-5cac-4d48-a533-ef49a3a46d93\n\n"
        }
      ],
      "execution_count": 8,
      "metadata": {
        "jupyter": {
          "source_hidden": false,
          "outputs_hidden": true
        },
        "nteract": {
          "transient": {
            "deleting": false
          }
        },
        "gather": {
          "logged": 1702639438737
        },
        "collapsed": false
      }
    },
    {
      "cell_type": "code",
      "source": [
        "model=train.register_model(\n",
        "    run=run,\n",
        "    model_args={\n",
        "        'model_name':'retail_model',\n",
        "        'model_path':'outputs/retailmodel.pkl'\n",
        "        },\n",
        "        resource_config_args={\n",
        "            'cpu':1, 'memory_in_gb':0.5\n",
        "        },\n",
        "        is_sklearn_model=False\n",
        ")\n",
        "print('Name:', model.name)\n",
        "print('Version:', model.version)"
      ],
      "outputs": [
        {
          "output_type": "stream",
          "name": "stdout",
          "text": "2023-12-15 11:24:01,329: fedml_azure.logger INFO: Registering the model.\nName: retail_model\nVersion: 3\n"
        }
      ],
      "execution_count": 9,
      "metadata": {
        "jupyter": {
          "source_hidden": false,
          "outputs_hidden": false
        },
        "nteract": {
          "transient": {
            "deleting": false
          }
        },
        "gather": {
          "logged": 1702639445741
        }
      }
    },
    {
      "cell_type": "code",
      "source": [
        "inference_config_args = {\n",
        "    'entry_script':'Retail-Project/predict.py',\n",
        "    'environment': environment\n",
        "}\n",
        "deploy_args = {\n",
        "    'workspace': workspace,\n",
        "    'name': 'retail-usecase2',\n",
        "    'models': [model]\n",
        "}"
      ],
      "outputs": [],
      "execution_count": 15,
      "metadata": {
        "jupyter": {
          "source_hidden": false,
          "outputs_hidden": false
        },
        "nteract": {
          "transient": {
            "deleting": false
          }
        },
        "gather": {
          "logged": 1702639535935
        }
      }
    },
    {
      "cell_type": "code",
      "source": [
        "from fedml_azure import deploy"
      ],
      "outputs": [],
      "execution_count": 16,
      "metadata": {
        "jupyter": {
          "source_hidden": false,
          "outputs_hidden": false
        },
        "nteract": {
          "transient": {
            "deleting": false
          }
        },
        "gather": {
          "logged": 1702639537993
        }
      }
    },
    {
      "cell_type": "code",
      "source": [
        "endpoint_url = deploy(\n",
        "    compute_type='Local',\n",
        "    deploy_args=deploy_args,\n",
        "    inference_config_args=inference_config_args\n",
        ")"
      ],
      "outputs": [
        {
          "output_type": "stream",
          "name": "stdout",
          "text": "2023-12-15 11:26:29,040: fedml_azure.logger INFO: The parameter 'deploy_config_args' is not specified. An empty configuration object will be used based on the desired target.\nDownloading model retail_model:3 to /tmp/azureml_s5xtz2kv/retail_model/3\nGenerating Docker build context.\nPackage creation Succeeded\nLogging into Docker registry cd89c64731ef49f189499606c5257fe4.azurecr.io\nLogging into Docker registry cd89c64731ef49f189499606c5257fe4.azurecr.io\nBuilding Docker image from Dockerfile...\nStep 1/5 : FROM cd89c64731ef49f189499606c5257fe4.azurecr.io/azureml/azureml_ba57d16069b1144b9fc17220c37e7d37\n ---> 1a96874603ec\nStep 2/5 : COPY azureml-app /var/azureml-app\n ---> c0ec9fde9b11\nStep 3/5 : RUN mkdir -p '/var/azureml-app' && echo eyJhY2NvdW50Q29udGV4dCI6eyJzdWJzY3JpcHRpb25JZCI6IjI3NTkxNTNmLTcyOGEtNDIwMi05ZDI2LWRmYmJmNDc2MmM4MyIsInJlc291cmNlR3JvdXBOYW1lIjoiZnJfcmV0YWlsX3NvdXJjZWdwIiwiYWNjb3VudE5hbWUiOiJmcl9tbF93b3Jrc3BhY2UiLCJ3b3Jrc3BhY2VJZCI6ImNkODljNjQ3LTMxZWYtNDlmMS04OTQ5LTk2MDZjNTI1N2ZlNCJ9LCJtb2RlbHMiOnt9LCJtb2RlbHNJbmZvIjp7fX0= | base64 --decode > /var/azureml-app/model_config_map.json\n ---> Running in f46cf7c935c2\n ---> ee9e2e8e43bc\nStep 4/5 : RUN mv '/var/azureml-app/tmpqhss37kw.py' /var/azureml-app/main.py\n ---> Running in 974eda0714b6\n ---> 9c0ecdd2fb93\nStep 5/5 : CMD [\"runsvdir\",\"/var/runit\"]\n ---> Running in 248d19daea06\n ---> 2756390e0109\nSuccessfully built 2756390e0109\nSuccessfully tagged retail-usecase2:latest\nContainer has been successfully cleaned up.\nImage sha256:eb30b2709028afde6a3b1bb1f9bde4d38a8c04fe2b1da260cdf90f9ab932455b successfully removed.\nStarting Docker container...\nDocker container running.\nChecking container health...\nLocal webservice is running at http://localhost:32773\n2023-12-15 11:27:04,703: fedml_azure.logger INFO: The service endpoint url is http://localhost:32773/score.\n"
        }
      ],
      "execution_count": 18,
      "metadata": {
        "jupyter": {
          "source_hidden": false,
          "outputs_hidden": true
        },
        "nteract": {
          "transient": {
            "deleting": false
          }
        },
        "gather": {
          "logged": 1702639624906
        }
      }
    },
    {
      "cell_type": "code",
      "source": [
        "endpoint_url"
      ],
      "outputs": [
        {
          "output_type": "execute_result",
          "execution_count": 19,
          "data": {
            "text/plain": "('http://localhost:32773/score',\n None,\n LocalWebservice(workspace=Workspace.create(name='fr_ml_workspace', subscription_id='2759153f-728a-4202-9d26-dfbbf4762c83', resource_group='fr_retail_sourcegp'), name=retail-usecase2, image_id=None, image_digest=None, compute_type=Local, state=running, scoring_uri=http://localhost:32773/score, tags=None, properties=None, created_by=None))"
          },
          "metadata": {}
        }
      ],
      "execution_count": 19,
      "metadata": {
        "jupyter": {
          "source_hidden": false,
          "outputs_hidden": false
        },
        "nteract": {
          "transient": {
            "deleting": false
          }
        },
        "gather": {
          "logged": 1702639627032
        }
      }
    },
    {
      "cell_type": "code",
      "source": [
        "import json\n",
        "import pandas as pd\n",
        "from fedml_azure import DbConnection\n",
        "from fedml_azure import predict"
      ],
      "outputs": [],
      "execution_count": 20,
      "metadata": {
        "jupyter": {
          "source_hidden": false,
          "outputs_hidden": false
        },
        "nteract": {
          "transient": {
            "deleting": false
          }
        },
        "gather": {
          "logged": 1702639630432
        }
      }
    },
    {
      "cell_type": "code",
      "source": [
        "db = DbConnection(url='src/dspconfig.json')\n",
        "dist_data = db.get_data_with_headers(table_name='FR_HL_DISTRIBUTOR_V', size=1)\n",
        "dist_data = pd.DataFrame(dist_data[0], columns=dist_data[1])\n",
        "\n",
        "product_data = db.get_data_with_headers(table_name='FR_HL_PRODUCT_V', size=1)\n",
        "product_data = pd.DataFrame(product_data[0], columns=product_data[1])\n",
        "\n",
        "retailer_data = db.get_data_with_headers(table_name='FR_HL_RETAIL_V', size=1)\n",
        "retailer_data = pd.DataFrame(retailer_data[0], columns=retailer_data[1])\n",
        "\n",
        "retailer1_data = db.get_data_with_headers(table_name='FR_HL_RETAILER1_V', size=1)\n",
        "retailer1_data = pd.DataFrame(retailer1_data[0], columns=retailer1_data[1])\n",
        "\n",
        "retailer2_data = db.get_data_with_headers(table_name='FR_HL_RETAILER2_V', size=1)\n",
        "retailer2_data = pd.DataFrame(retailer2_data[0], columns=retailer2_data[1])\n",
        "\n",
        "retailer3_data = db.get_data_with_headers(table_name='FR_HL_RETAILER3_V', size=1)\n",
        "retailer3_data = pd.DataFrame(retailer3_data[0], columns=retailer3_data[1])"
      ],
      "outputs": [],
      "execution_count": 21,
      "metadata": {
        "jupyter": {
          "source_hidden": false,
          "outputs_hidden": false
        },
        "nteract": {
          "transient": {
            "deleting": false
          }
        },
        "gather": {
          "logged": 1702639646183
        }
      }
    },
    {
      "cell_type": "code",
      "source": [
        "#Request data\n",
        "data = {\n",
        "    'dist_data': dist_data.values.tolist(),\n",
        "    'product_data': product_data.values.tolist(),\n",
        "    'retailer_data': retailer_data.values.tolist(),\n",
        "    'retailer1_data': retailer1_data.values.tolist(),\n",
        "    'retailer2_data': retailer2_data.values.tolist(),\n",
        "    'retailer3_data': retailer3_data.values.tolist()\n",
        "}\n",
        "test_data = json.dumps(data)"
      ],
      "outputs": [],
      "execution_count": 22,
      "metadata": {
        "jupyter": {
          "source_hidden": false,
          "outputs_hidden": false
        },
        "nteract": {
          "transient": {
            "deleting": false
          }
        },
        "gather": {
          "logged": 1702639650584
        }
      }
    },
    {
      "cell_type": "code",
      "source": [
        "result = predict(endpoint_url=endpoint_url[0],compute_type='local',data=test_data)"
      ],
      "outputs": [
        {
          "output_type": "stream",
          "name": "stdout",
          "text": "2023-12-15 11:28:29,275: fedml_azure.logger INFO: Using the parameters 'endpoint_url' and 'compute_type' for inferencing.\n"
        }
      ],
      "execution_count": 24,
      "metadata": {
        "jupyter": {
          "source_hidden": false,
          "outputs_hidden": false
        },
        "nteract": {
          "transient": {
            "deleting": false
          }
        },
        "gather": {
          "logged": 1702639736234
        }
      }
    },
    {
      "cell_type": "code",
      "source": [
        "scores = result['result']\n",
        "len(scores)"
      ],
      "outputs": [
        {
          "output_type": "execute_result",
          "execution_count": 25,
          "data": {
            "text/plain": "122400"
          },
          "metadata": {}
        }
      ],
      "execution_count": 25,
      "metadata": {
        "jupyter": {
          "source_hidden": false,
          "outputs_hidden": false
        },
        "nteract": {
          "transient": {
            "deleting": false
          }
        },
        "gather": {
          "logged": 1702639753500
        }
      }
    },
    {
      "cell_type": "code",
      "source": [
        "type(scores)"
      ],
      "outputs": [
        {
          "output_type": "execute_result",
          "execution_count": 26,
          "data": {
            "text/plain": "list"
          },
          "metadata": {}
        }
      ],
      "execution_count": 26,
      "metadata": {
        "jupyter": {
          "source_hidden": false,
          "outputs_hidden": false
        },
        "nteract": {
          "transient": {
            "deleting": false
          }
        },
        "gather": {
          "logged": 1702639755678
        }
      }
    },
    {
      "cell_type": "code",
      "source": [
        "result_df = pd.DataFrame(scores, columns=['retailer', 'productsku', 'calendar_year','calendar_month', 'Predictions'])"
      ],
      "outputs": [],
      "execution_count": 27,
      "metadata": {
        "jupyter": {
          "source_hidden": false,
          "outputs_hidden": false
        },
        "nteract": {
          "transient": {
            "deleting": false
          }
        },
        "gather": {
          "logged": 1702639758879
        }
      }
    },
    {
      "cell_type": "code",
      "source": [
        "types = {\n",
        "    'retailer': 'int',\n",
        "    'productsku': 'int',\n",
        "    'calendar_year': 'int',\n",
        "    'calendar_month': 'int'\n",
        "}\n",
        "result_df = result_df.astype(types)"
      ],
      "outputs": [],
      "execution_count": 28,
      "metadata": {
        "jupyter": {
          "source_hidden": false,
          "outputs_hidden": false
        },
        "nteract": {
          "transient": {
            "deleting": false
          }
        },
        "gather": {
          "logged": 1702639761902
        }
      }
    },
    {
      "cell_type": "code",
      "source": [
        "result_df['ID'] = result_df.index"
      ],
      "outputs": [],
      "execution_count": 29,
      "metadata": {
        "jupyter": {
          "source_hidden": false,
          "outputs_hidden": false
        },
        "nteract": {
          "transient": {
            "deleting": false
          }
        },
        "gather": {
          "logged": 1702639764353
        }
      }
    },
    {
      "cell_type": "code",
      "source": [
        "result_df.head(10)"
      ],
      "outputs": [
        {
          "output_type": "execute_result",
          "execution_count": 30,
          "data": {
            "text/plain": "   retailer  productsku  calendar_year  calendar_month  Predictions  ID\n0     10001        1061           2019               1       1618.0   0\n1     10001        1061           2019               2       1101.0   1\n2     10001        1061           2019               3       4229.0   2\n3     10001        1061           2019               4       4641.0   3\n4     10001        1061           2019               5       3180.0   4\n5     10001        1061           2019               6       3485.0   5\n6     10001        1061           2019               7        497.0   6\n7     10001        1061           2019               8       4085.0   7\n8     10001        1061           2019               9        666.0   8\n9     10001        1061           2019              10       2815.0   9",
            "text/html": "<div>\n<style scoped>\n    .dataframe tbody tr th:only-of-type {\n        vertical-align: middle;\n    }\n\n    .dataframe tbody tr th {\n        vertical-align: top;\n    }\n\n    .dataframe thead th {\n        text-align: right;\n    }\n</style>\n<table border=\"1\" class=\"dataframe\">\n  <thead>\n    <tr style=\"text-align: right;\">\n      <th></th>\n      <th>retailer</th>\n      <th>productsku</th>\n      <th>calendar_year</th>\n      <th>calendar_month</th>\n      <th>Predictions</th>\n      <th>ID</th>\n    </tr>\n  </thead>\n  <tbody>\n    <tr>\n      <th>0</th>\n      <td>10001</td>\n      <td>1061</td>\n      <td>2019</td>\n      <td>1</td>\n      <td>1618.0</td>\n      <td>0</td>\n    </tr>\n    <tr>\n      <th>1</th>\n      <td>10001</td>\n      <td>1061</td>\n      <td>2019</td>\n      <td>2</td>\n      <td>1101.0</td>\n      <td>1</td>\n    </tr>\n    <tr>\n      <th>2</th>\n      <td>10001</td>\n      <td>1061</td>\n      <td>2019</td>\n      <td>3</td>\n      <td>4229.0</td>\n      <td>2</td>\n    </tr>\n    <tr>\n      <th>3</th>\n      <td>10001</td>\n      <td>1061</td>\n      <td>2019</td>\n      <td>4</td>\n      <td>4641.0</td>\n      <td>3</td>\n    </tr>\n    <tr>\n      <th>4</th>\n      <td>10001</td>\n      <td>1061</td>\n      <td>2019</td>\n      <td>5</td>\n      <td>3180.0</td>\n      <td>4</td>\n    </tr>\n    <tr>\n      <th>5</th>\n      <td>10001</td>\n      <td>1061</td>\n      <td>2019</td>\n      <td>6</td>\n      <td>3485.0</td>\n      <td>5</td>\n    </tr>\n    <tr>\n      <th>6</th>\n      <td>10001</td>\n      <td>1061</td>\n      <td>2019</td>\n      <td>7</td>\n      <td>497.0</td>\n      <td>6</td>\n    </tr>\n    <tr>\n      <th>7</th>\n      <td>10001</td>\n      <td>1061</td>\n      <td>2019</td>\n      <td>8</td>\n      <td>4085.0</td>\n      <td>7</td>\n    </tr>\n    <tr>\n      <th>8</th>\n      <td>10001</td>\n      <td>1061</td>\n      <td>2019</td>\n      <td>9</td>\n      <td>666.0</td>\n      <td>8</td>\n    </tr>\n    <tr>\n      <th>9</th>\n      <td>10001</td>\n      <td>1061</td>\n      <td>2019</td>\n      <td>10</td>\n      <td>2815.0</td>\n      <td>9</td>\n    </tr>\n  </tbody>\n</table>\n</div>"
          },
          "metadata": {}
        }
      ],
      "execution_count": 30,
      "metadata": {
        "jupyter": {
          "source_hidden": false,
          "outputs_hidden": false
        },
        "nteract": {
          "transient": {
            "deleting": false
          }
        },
        "gather": {
          "logged": 1702639767224
        }
      }
    },
    {
      "cell_type": "code",
      "source": [
        "db.create_table(\"CREATE TABLE FR_RL_Retail_Predictions (ID INTEGER PRIMARY KEY, retailer INTEGER, productsku INTEGER, calendar_year INTEGER, calendar_month INTEGER, Predictions FLOAT(2))\")"
      ],
      "outputs": [
        {
          "output_type": "stream",
          "name": "stdout",
          "text": "2023-12-15 10:05:24,916: fedml_azure.logger INFO: creating table...\n2023-12-15 10:05:24,917: fedml_azure.logger INFO: CREATE TABLE FR_RL_Retail_Predictions (ID INTEGER PRIMARY KEY, retailer INTEGER, productsku INTEGER, calendar_year INTEGER, calendar_month INTEGER, Predictions FLOAT(2), INSERTED_AT TIMESTAMP NOT NULL)\n2023-12-15 10:05:24,926: fedml_azure.logger ERROR: error occured during query execution, doing rollback (288, 'cannot use duplicate table name: FR_RL_RETAIL_PREDICTIONS: line 1 col 14 (at pos 13)')\n"
        },
        {
          "output_type": "error",
          "ename": "ProgrammingError",
          "evalue": "(288, 'cannot use duplicate table name: FR_RL_RETAIL_PREDICTIONS: line 1 col 14 (at pos 13)')",
          "traceback": [
            "\u001b[0;31m---------------------------------------------------------------------------\u001b[0m",
            "\u001b[0;31mProgrammingError\u001b[0m                          Traceback (most recent call last)",
            "Cell \u001b[0;32mIn[50], line 1\u001b[0m\n\u001b[0;32m----> 1\u001b[0m \u001b[43mdb\u001b[49m\u001b[38;5;241;43m.\u001b[39;49m\u001b[43mcreate_table\u001b[49m\u001b[43m(\u001b[49m\u001b[38;5;124;43m\"\u001b[39;49m\u001b[38;5;124;43mCREATE TABLE FR_RL_Retail_Predictions (ID INTEGER PRIMARY KEY, retailer INTEGER, productsku INTEGER, calendar_year INTEGER, calendar_month INTEGER, Predictions FLOAT(2))\u001b[39;49m\u001b[38;5;124;43m\"\u001b[39;49m\u001b[43m)\u001b[49m\n",
            "File \u001b[0;32m/anaconda/envs/azureml_py310_sdkv2/lib/python3.10/site-packages/fedml_azure/dbconnection.py:184\u001b[0m, in \u001b[0;36mDbConnection.create_table\u001b[0;34m(self, query)\u001b[0m\n\u001b[1;32m    182\u001b[0m \u001b[38;5;28mself\u001b[39m\u001b[38;5;241m.\u001b[39mlogger\u001b[38;5;241m.\u001b[39minfo(\u001b[38;5;124m\"\u001b[39m\u001b[38;5;124mcreating table...\u001b[39m\u001b[38;5;124m\"\u001b[39m)\n\u001b[1;32m    183\u001b[0m \u001b[38;5;28mself\u001b[39m\u001b[38;5;241m.\u001b[39mlogger\u001b[38;5;241m.\u001b[39minfo(query)\n\u001b[0;32m--> 184\u001b[0m \u001b[43mcursor\u001b[49m\u001b[38;5;241;43m.\u001b[39;49m\u001b[43mexecute\u001b[49m\u001b[43m(\u001b[49m\u001b[43mquery\u001b[49m\u001b[43m)\u001b[49m\n\u001b[1;32m    185\u001b[0m \u001b[38;5;28;01mif\u001b[39;00m \u001b[38;5;28mself\u001b[39m\u001b[38;5;241m.\u001b[39mconnection\u001b[38;5;241m.\u001b[39mgetautocommit() \u001b[38;5;241m==\u001b[39m \u001b[38;5;28;01mFalse\u001b[39;00m:\n\u001b[1;32m    186\u001b[0m     \u001b[38;5;28mself\u001b[39m\u001b[38;5;241m.\u001b[39mconnection\u001b[38;5;241m.\u001b[39mcommit()\n",
            "\u001b[0;31mProgrammingError\u001b[0m: (288, 'cannot use duplicate table name: FR_RL_RETAIL_PREDICTIONS: line 1 col 14 (at pos 13)')"
          ]
        }
      ],
      "execution_count": 50,
      "metadata": {
        "jupyter": {
          "source_hidden": false,
          "outputs_hidden": true
        },
        "nteract": {
          "transient": {
            "deleting": false
          }
        },
        "gather": {
          "logged": 1702634725272
        }
      }
    },
    {
      "cell_type": "code",
      "source": [
        "db.insert_into_table('FR_RL_RETAIL_PREDICTIONS',result_df)"
      ],
      "outputs": [
        {
          "output_type": "stream",
          "name": "stdout",
          "text": "2023-12-15 10:08:06,608: fedml_azure.logger INFO: inserting into table...\n2023-12-15 10:08:06,609: fedml_azure.logger INFO:  INSERT INTO \"FR_RL_RETAIL_PREDICTIONS\"  (retailer, productsku, calendar_year, calendar_month, Predictions, ID, INSERTED_AT) VALUES (:retailer, :productsku, :calendar_year, :calendar_month, :Predictions, :ID, :INSERTED_AT)\n"
        }
      ],
      "execution_count": 55,
      "metadata": {
        "jupyter": {
          "source_hidden": false,
          "outputs_hidden": false
        },
        "nteract": {
          "transient": {
            "deleting": false
          }
        },
        "gather": {
          "logged": 1702636144181
        }
      }
    }
  ],
  "metadata": {
    "kernelspec": {
      "name": "python310-sdkv2",
      "language": "python",
      "display_name": "Python 3.10 - SDK v2"
    },
    "language_info": {
      "name": "python",
      "version": "3.10.11",
      "mimetype": "text/x-python",
      "codemirror_mode": {
        "name": "ipython",
        "version": 3
      },
      "pygments_lexer": "ipython3",
      "nbconvert_exporter": "python",
      "file_extension": ".py"
    },
    "microsoft": {
      "ms_spell_check": {
        "ms_spell_check_language": "en"
      },
      "host": {
        "AzureML": {
          "notebookHasBeenCompleted": true
        }
      }
    },
    "nteract": {
      "version": "nteract-front-end@1.0.0"
    },
    "kernel_info": {
      "name": "python310-sdkv2"
    }
  },
  "nbformat": 4,
  "nbformat_minor": 2
}